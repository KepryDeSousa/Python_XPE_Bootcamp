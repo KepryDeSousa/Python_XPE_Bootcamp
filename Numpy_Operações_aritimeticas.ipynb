{
  "nbformat": 4,
  "nbformat_minor": 0,
  "metadata": {
    "colab": {
      "provenance": [],
      "authorship_tag": "ABX9TyOCL7GUmaBsgXLYlSRPKOjo",
      "include_colab_link": true
    },
    "kernelspec": {
      "name": "python3",
      "display_name": "Python 3"
    },
    "language_info": {
      "name": "python"
    }
  },
  "cells": [
    {
      "cell_type": "markdown",
      "metadata": {
        "id": "view-in-github",
        "colab_type": "text"
      },
      "source": [
        "<a href=\"https://colab.research.google.com/github/KepryDeSousa/Python_XPE_Bootcamp/blob/main/Numpy_Opera%C3%A7%C3%B5es_aritimeticas.ipynb\" target=\"_parent\"><img src=\"https://colab.research.google.com/assets/colab-badge.svg\" alt=\"Open In Colab\"/></a>"
      ]
    },
    {
      "cell_type": "markdown",
      "source": [
        "# Numpy - Operações aritimeticas\n",
        "> Operações elemento a elemento \n",
        ">\n",
        "> Broadcasting\n",
        "> \n",
        "> Operações matriciais\n"
      ],
      "metadata": {
        "id": "PHrgP5Sjzsxr"
      }
    },
    {
      "cell_type": "code",
      "execution_count": 1,
      "metadata": {
        "id": "lnQWHs11zaJO"
      },
      "outputs": [],
      "source": [
        "import numpy as np "
      ]
    },
    {
      "cell_type": "markdown",
      "source": [
        "## Elemento a Elemento\n",
        "\n",
        "O que são :?\n",
        "\n",
        "operações que acada rodada é novamente reproduzida como\n",
        "> Somas, Sub, Mulplicacoes ...\n"
      ],
      "metadata": {
        "id": "pvAJxTyk0G3j"
      }
    },
    {
      "cell_type": "code",
      "source": [
        "array = [1,2,3,4]\n",
        "array1 = [1,2,3,4]\n",
        "somas = []\n",
        "for  i in range(4):\n",
        "  somas.append(array[i]+array1[i])"
      ],
      "metadata": {
        "id": "AjEuQlWSzzRy"
      },
      "execution_count": 4,
      "outputs": []
    },
    {
      "cell_type": "code",
      "source": [
        "somas"
      ],
      "metadata": {
        "colab": {
          "base_uri": "https://localhost:8080/"
        },
        "id": "LXZn9aBh0muk",
        "outputId": "2c31dcd0-bdfb-4860-c052-c8fdc947b73c"
      },
      "execution_count": 5,
      "outputs": [
        {
          "output_type": "execute_result",
          "data": {
            "text/plain": [
              "[2, 4, 6, 8]"
            ]
          },
          "metadata": {},
          "execution_count": 5
        }
      ]
    },
    {
      "cell_type": "markdown",
      "source": [
        "### Broadcasting:\n",
        "\n",
        "realizar calculos em matrizes com tamanhos distintos mais equivalentes\n",
        "\n",
        "> Ex : Mulplicacoes matriciais"
      ],
      "metadata": {
        "id": "dYr2N7zD0uBd"
      }
    },
    {
      "cell_type": "code",
      "source": [
        "n = np.eye(2)\n",
        "n*2"
      ],
      "metadata": {
        "colab": {
          "base_uri": "https://localhost:8080/"
        },
        "id": "XYBzZLwo01WR",
        "outputId": "f8ad2fa5-f7f7-40e3-f53d-57bd14441f24"
      },
      "execution_count": 7,
      "outputs": [
        {
          "output_type": "execute_result",
          "data": {
            "text/plain": [
              "array([[2., 0.],\n",
              "       [0., 2.]])"
            ]
          },
          "metadata": {},
          "execution_count": 7
        }
      ]
    },
    {
      "cell_type": "code",
      "source": [
        "n"
      ],
      "metadata": {
        "colab": {
          "base_uri": "https://localhost:8080/"
        },
        "id": "I3mXjHvB0-gZ",
        "outputId": "4419208b-f04f-4e71-9f18-b7c5c2d1dce5"
      },
      "execution_count": 8,
      "outputs": [
        {
          "output_type": "execute_result",
          "data": {
            "text/plain": [
              "array([[1., 0.],\n",
              "       [0., 1.]])"
            ]
          },
          "metadata": {},
          "execution_count": 8
        }
      ]
    },
    {
      "cell_type": "code",
      "source": [
        "#outros exemplos\n",
        "#python puro use @ para multipicar matrizes ou np.dot (a,b)\n",
        "\n"
      ],
      "metadata": {
        "id": "thBvUZ070_4x"
      },
      "execution_count": null,
      "outputs": []
    },
    {
      "cell_type": "markdown",
      "source": [
        "# Aula_2"
      ],
      "metadata": {
        "id": "cuzHI3q81p-c"
      }
    },
    {
      "cell_type": "markdown",
      "source": [
        "Funções aritimeticas\n",
        "> Soma,Sub e multi"
      ],
      "metadata": {
        "id": "0SwK8V2n1nsc"
      }
    },
    {
      "cell_type": "code",
      "source": [
        "x = np.eye(2)\n",
        "y = np.ones([2,2])\n",
        "x,y"
      ],
      "metadata": {
        "colab": {
          "base_uri": "https://localhost:8080/"
        },
        "id": "PHzWHb5b13gZ",
        "outputId": "faadafa6-1d46-4cc0-8427-eeba0edc9bdd"
      },
      "execution_count": 10,
      "outputs": [
        {
          "output_type": "execute_result",
          "data": {
            "text/plain": [
              "(array([[1., 0.],\n",
              "        [0., 1.]]),\n",
              " array([[1., 1.],\n",
              "        [1., 1.]]))"
            ]
          },
          "metadata": {},
          "execution_count": 10
        }
      ]
    },
    {
      "cell_type": "code",
      "source": [
        "#soma\n",
        "print(x+y)"
      ],
      "metadata": {
        "colab": {
          "base_uri": "https://localhost:8080/"
        },
        "id": "KmtuvRs-1-Kq",
        "outputId": "fb01d5fc-8faf-4cdb-caf5-46393aa0100a"
      },
      "execution_count": 11,
      "outputs": [
        {
          "output_type": "stream",
          "name": "stdout",
          "text": [
            "[[2. 1.]\n",
            " [1. 2.]]\n"
          ]
        }
      ]
    },
    {
      "cell_type": "code",
      "source": [
        "#sub\n",
        "print(x-y)\n",
        "print(x - 2)"
      ],
      "metadata": {
        "colab": {
          "base_uri": "https://localhost:8080/"
        },
        "id": "aZRVODQ_4v8z",
        "outputId": "43c4f8e1-a537-4231-ada1-18563bb6a027"
      },
      "execution_count": 14,
      "outputs": [
        {
          "output_type": "stream",
          "name": "stdout",
          "text": [
            "[[ 0. -1.]\n",
            " [-1.  0.]]\n",
            "[[-1. -2.]\n",
            " [-2. -1.]]\n"
          ]
        }
      ]
    },
    {
      "cell_type": "code",
      "source": [
        "#multi \n",
        "print(x*y)\n"
      ],
      "metadata": {
        "colab": {
          "base_uri": "https://localhost:8080/"
        },
        "id": "dvsQquvf4ygq",
        "outputId": "85ffc01b-75f1-4ea8-e8df-97da1204a7c8"
      },
      "execution_count": 13,
      "outputs": [
        {
          "output_type": "stream",
          "name": "stdout",
          "text": [
            "[[1. 0.]\n",
            " [0. 1.]]\n"
          ]
        }
      ]
    },
    {
      "cell_type": "code",
      "source": [
        "#div\n",
        "print(x/y)"
      ],
      "metadata": {
        "colab": {
          "base_uri": "https://localhost:8080/"
        },
        "id": "mND5KQtj5MJS",
        "outputId": "1913a3e5-a025-47dc-87e7-9e922f60d5d5"
      },
      "execution_count": 15,
      "outputs": [
        {
          "output_type": "stream",
          "name": "stdout",
          "text": [
            "[[1. 0.]\n",
            " [0. 1.]]\n"
          ]
        }
      ]
    },
    {
      "cell_type": "markdown",
      "source": [
        "O Broading cast ele acaba seghuindo as regras de operações em matrizes"
      ],
      "metadata": {
        "id": "8IDsbYjw7n39"
      }
    }
  ]
}