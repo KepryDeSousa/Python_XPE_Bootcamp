{
  "nbformat": 4,
  "nbformat_minor": 0,
  "metadata": {
    "colab": {
      "provenance": [],
      "authorship_tag": "ABX9TyPH7OszvhYkafaJ2kLXOjNb",
      "include_colab_link": true
    },
    "kernelspec": {
      "name": "python3",
      "display_name": "Python 3"
    },
    "language_info": {
      "name": "python"
    }
  },
  "cells": [
    {
      "cell_type": "markdown",
      "metadata": {
        "id": "view-in-github",
        "colab_type": "text"
      },
      "source": [
        "<a href=\"https://colab.research.google.com/github/KepryDeSousa/Python_XPE_Bootcamp/blob/main/Indexa%C3%A7%C3%A3o_Booleana.ipynb\" target=\"_parent\"><img src=\"https://colab.research.google.com/assets/colab-badge.svg\" alt=\"Open In Colab\"/></a>"
      ]
    },
    {
      "cell_type": "markdown",
      "source": [
        "# Comparação Booleana\n",
        "> Comparacoes \n",
        ">\n",
        "> Indexação Booleana"
      ],
      "metadata": {
        "id": "PhjbYIgUBYQF"
      }
    },
    {
      "cell_type": "code",
      "execution_count": 2,
      "metadata": {
        "id": "uAnmZaTaBSlc"
      },
      "outputs": [],
      "source": [
        "import numpy as np"
      ]
    },
    {
      "cell_type": "code",
      "source": [
        "# comparacoes <, >,  ||, <=, >= , =="
      ],
      "metadata": {
        "id": "poqw0Q0HBhOU"
      },
      "execution_count": null,
      "outputs": []
    },
    {
      "cell_type": "code",
      "source": [],
      "metadata": {
        "id": "bB4rtBqlBzTj"
      },
      "execution_count": null,
      "outputs": []
    }
  ]
}
