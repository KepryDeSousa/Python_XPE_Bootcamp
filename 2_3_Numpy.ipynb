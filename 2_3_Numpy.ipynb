{
  "nbformat": 4,
  "nbformat_minor": 0,
  "metadata": {
    "colab": {
      "provenance": [],
      "authorship_tag": "ABX9TyNXxWJJ2/KMW5XRXzO6uQ5B",
      "include_colab_link": true
    },
    "kernelspec": {
      "name": "python3",
      "display_name": "Python 3"
    },
    "language_info": {
      "name": "python"
    }
  },
  "cells": [
    {
      "cell_type": "markdown",
      "metadata": {
        "id": "view-in-github",
        "colab_type": "text"
      },
      "source": [
        "<a href=\"https://colab.research.google.com/github/KepryDeSousa/Python_XPE_Bootcamp/blob/main/2_3_Numpy.ipynb\" target=\"_parent\"><img src=\"https://colab.research.google.com/assets/colab-badge.svg\" alt=\"Open In Colab\"/></a>"
      ]
    },
    {
      "cell_type": "markdown",
      "source": [
        "# Numpy: Comandos Uteis"
      ],
      "metadata": {
        "id": "MF1DAHszC1ZM"
      }
    },
    {
      "cell_type": "code",
      "execution_count": 1,
      "metadata": {
        "id": "01LKAcJ1CDRB"
      },
      "outputs": [],
      "source": [
        "import numpy as np"
      ]
    },
    {
      "cell_type": "code",
      "source": [
        "x = np.array([[1,2,3],[4,11,13],[45,67,8]])\n",
        "x"
      ],
      "metadata": {
        "colab": {
          "base_uri": "https://localhost:8080/"
        },
        "id": "mWMzb1iDC7ze",
        "outputId": "43be348e-66cd-443a-ec35-14d743fcd861"
      },
      "execution_count": 14,
      "outputs": [
        {
          "output_type": "execute_result",
          "data": {
            "text/plain": [
              "array([[ 1,  2,  3],\n",
              "       [ 4, 11, 13],\n",
              "       [45, 67,  8]])"
            ]
          },
          "metadata": {},
          "execution_count": 14
        }
      ]
    },
    {
      "cell_type": "code",
      "source": [
        "#reshape\n",
        "y = x.reshape(1,9)\n",
        "y"
      ],
      "metadata": {
        "colab": {
          "base_uri": "https://localhost:8080/"
        },
        "id": "QWGmeN85DIET",
        "outputId": "dde589d0-2ac5-4df6-b82d-2a417ef1b606"
      },
      "execution_count": 19,
      "outputs": [
        {
          "output_type": "execute_result",
          "data": {
            "text/plain": [
              "array([[ 1,  2,  3,  4, 11, 13, 45, 67,  8]])"
            ]
          },
          "metadata": {},
          "execution_count": 19
        }
      ]
    },
    {
      "cell_type": "code",
      "source": [
        "#transpor\n",
        "t = x.T\n",
        "t"
      ],
      "metadata": {
        "colab": {
          "base_uri": "https://localhost:8080/"
        },
        "id": "ea1jBIypEWBC",
        "outputId": "3d387fea-b25a-4f95-c9c9-3eb55295e741"
      },
      "execution_count": 21,
      "outputs": [
        {
          "output_type": "execute_result",
          "data": {
            "text/plain": [
              "array([[ 1,  4, 45],\n",
              "       [ 2, 11, 67],\n",
              "       [ 3, 13,  8]])"
            ]
          },
          "metadata": {},
          "execution_count": 21
        }
      ]
    },
    {
      "cell_type": "code",
      "source": [
        "#sum\n",
        "print(np.sum(x, axis=0))\n",
        "#axis 0 soma por linhas\n",
        "print(np.sum(x, axis=1))\n",
        "#axis 0 soma por colunas"
      ],
      "metadata": {
        "colab": {
          "base_uri": "https://localhost:8080/"
        },
        "id": "ul1huhZqFFcz",
        "outputId": "1e422053-4b0a-4e9f-ff82-613f25df0e78"
      },
      "execution_count": 24,
      "outputs": [
        {
          "output_type": "stream",
          "name": "stdout",
          "text": [
            "[50 80 24]\n",
            "[  6  28 120]\n"
          ]
        }
      ]
    },
    {
      "cell_type": "code",
      "source": [
        "#median\n",
        "np.median(x)# total\n",
        "# pelas linhas\n",
        "np.median(x,axis=0)\n",
        "# pelas colunas\n",
        "#np.median(x,axis=1)"
      ],
      "metadata": {
        "colab": {
          "base_uri": "https://localhost:8080/"
        },
        "id": "IytGOEoKFOMa",
        "outputId": "ffb51767-de8e-4dcb-f261-225d9a71f094"
      },
      "execution_count": 29,
      "outputs": [
        {
          "output_type": "execute_result",
          "data": {
            "text/plain": [
              "array([ 4., 11.,  8.])"
            ]
          },
          "metadata": {},
          "execution_count": 29
        }
      ]
    },
    {
      "cell_type": "code",
      "source": [
        "##############################\n",
        "x = np.array([[1,2,3],[4,11,13],[45,67,8]])\n",
        "x"
      ],
      "metadata": {
        "colab": {
          "base_uri": "https://localhost:8080/"
        },
        "id": "exzvy7scHpQ-",
        "outputId": "2bce0f4d-b24a-4234-e03d-7f0dbab4fd0c"
      },
      "execution_count": 40,
      "outputs": [
        {
          "output_type": "execute_result",
          "data": {
            "text/plain": [
              "array([[ 1,  2,  3],\n",
              "       [ 4, 11, 13],\n",
              "       [45, 67,  8]])"
            ]
          },
          "metadata": {},
          "execution_count": 40
        }
      ]
    },
    {
      "cell_type": "code",
      "source": [
        "#where condition\n",
        "cond = x%2 ==0 \n",
        "# par\n",
        "print(cond)\n",
        "x = np.where(cond)\n",
        "\n"
      ],
      "metadata": {
        "colab": {
          "base_uri": "https://localhost:8080/"
        },
        "id": "P8GwBx2fF4VK",
        "outputId": "6bba3b38-a186-4938-db11-1d3e5d1023e5"
      },
      "execution_count": 39,
      "outputs": [
        {
          "output_type": "stream",
          "name": "stdout",
          "text": [
            "[[False  True False]\n",
            " [ True False False]\n",
            " [False False  True]]\n"
          ]
        }
      ]
    },
    {
      "cell_type": "markdown",
      "source": [
        "# Regressão Linear\n",
        "\n",
        "para desenvolvermos a regressão linear devemos fazer a escolha da melhor funcao ; \n",
        "\n",
        "deve ser baseada em criterio \n",
        "\n",
        "um criterio comumente ultilizada é o erro quadratico, que queremos minimizar:\n"
      ],
      "metadata": {
        "id": "mMJB4cjRIe42"
      }
    },
    {
      "cell_type": "code",
      "source": [
        "# exemplo\n",
        "# y = f(x) = ax+b\n",
        "import numpy as np\n",
        "import matplotlib.pyplot as plt"
      ],
      "metadata": {
        "id": "ohROx0IzJNi-"
      },
      "execution_count": 89,
      "outputs": []
    },
    {
      "cell_type": "code",
      "source": [
        "x = [i for i in np.arange(-1,1,0.10)]\n",
        "y = [i for i in np.arange(-1,3,0.20)]\n",
        "len(x),len(y)"
      ],
      "metadata": {
        "colab": {
          "base_uri": "https://localhost:8080/"
        },
        "id": "T1uCzSBgJtP6",
        "outputId": "7f9c9e72-13c0-42c9-b623-014f9cc09d67"
      },
      "execution_count": 92,
      "outputs": [
        {
          "output_type": "execute_result",
          "data": {
            "text/plain": [
              "(20, 20)"
            ]
          },
          "metadata": {},
          "execution_count": 92
        }
      ]
    },
    {
      "cell_type": "code",
      "source": [
        "#plot \n",
        "plt.figure(figsize=(10,5))\n",
        "plt.plot(x,y,'o',label=\"Dados Originais\")\n",
        "plt.legend()\n",
        "plt.xlabel(\"x\")\n",
        "plt.ylabel(\"y\")\n",
        "plt.grid()\n",
        "plt.show()"
      ],
      "metadata": {
        "colab": {
          "base_uri": "https://localhost:8080/",
          "height": 465
        },
        "id": "7R-4WWM3P6id",
        "outputId": "bd58430d-c3cc-49e0-a743-c761052481eb"
      },
      "execution_count": 93,
      "outputs": [
        {
          "output_type": "display_data",
          "data": {
            "text/plain": [
              "<Figure size 1000x500 with 1 Axes>"
            ],
            "image/png": "[encoded data removed]"
          },
          "metadata": {}
        }
      ]
    },
    {
      "cell_type": "code",
      "source": [
        "x, y = np.array(x).reshape(-1,1), np.array(y).reshape(-1,1)\n",
        "# desta forma força o vetor a se transformar em uma coluna\n",
        "\n",
        "# bias\n",
        "X = np.hstack((x, np.ones(x.shape)))\n",
        "\n",
        "\n",
        "beta = np.linalg.pinv(X).dot(y)\n",
        "# modo de estimar o valor "
      ],
      "metadata": {
        "id": "6PIo6mOOSx1t"
      },
      "execution_count": 99,
      "outputs": []
    },
    {
      "cell_type": "code",
      "source": [
        "beta"
      ],
      "metadata": {
        "colab": {
          "base_uri": "https://localhost:8080/"
        },
        "id": "lIuKt4GGVMSN",
        "outputId": "6685a8e4-2f47-4177-d362-eb81c14f8584"
      },
      "execution_count": 100,
      "outputs": [
        {
          "output_type": "execute_result",
          "data": {
            "text/plain": [
              "array([[2.],\n",
              "       [1.]])"
            ]
          },
          "metadata": {},
          "execution_count": 100
        }
      ]
    },
    {
      "cell_type": "code",
      "source": [
        "print(\"a: \", beta[0][0])\n",
        "print(\"b: \", beta[1][0])"
      ],
      "metadata": {
        "colab": {
          "base_uri": "https://localhost:8080/"
        },
        "id": "l0uibrj8VNeM",
        "outputId": "457651b0-9100-4e24-c44c-6a8c3768e8aa"
      },
      "execution_count": 101,
      "outputs": [
        {
          "output_type": "stream",
          "name": "stdout",
          "text": [
            "a:  1.9999999999999991\n",
            "b:  1.0\n"
          ]
        }
      ]
    },
    {
      "cell_type": "code",
      "source": [
        "#plot \n",
        "plt.figure(figsize=(10,5))\n",
        "plt.plot(x,y,'o',label=\"Dados Originais\")\n",
        "plt.plot(x,X.dot(beta), label = \"Regressão\")\n",
        "plt.legend()\n",
        "plt.xlabel(\"x\")\n",
        "plt.ylabel(\"y\")\n",
        "plt.grid()\n",
        "plt.show()"
      ],
      "metadata": {
        "colab": {
          "base_uri": "https://localhost:8080/",
          "height": 465
        },
        "id": "4-V8YI6lVpKU",
        "outputId": "4ceeef37-09e6-45a5-98ad-456c3b5357b6"
      },
      "execution_count": 102,
      "outputs": [
        {
          "output_type": "display_data",
          "data": {
            "text/plain": [
              "<Figure size 1000x500 with 1 Axes>"
            ],
            "image/png": "[encoded data removed]"
          },
          "metadata": {}
        }
      ]
    }
  ]
}