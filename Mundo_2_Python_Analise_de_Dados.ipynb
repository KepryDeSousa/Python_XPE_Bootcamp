{
  "cells": [
    {
      "cell_type": "markdown",
      "metadata": {
        "id": "view-in-github",
        "colab_type": "text"
      },
      "source": [
        "<a href=\"https://colab.research.google.com/github/KepryDeSousa/Python_XPE_Bootcamp/blob/main/Mundo_2_Python_Analise_de_Dados.ipynb\" target=\"_parent\"><img src=\"https://colab.research.google.com/assets/colab-badge.svg\" alt=\"Open In Colab\"/></a>"
      ]
    },
    {
      "cell_type": "markdown",
      "metadata": {
        "id": "3OvvCXpxR9QZ"
      },
      "source": [
        "# Introdução a analise de dados\n",
        "*   Numpy\n",
        "*   Pandas\n",
        "*   Scikit-Learn\n"
      ]
    },
    {
      "cell_type": "markdown",
      "source": [
        "## Indexação de Arrays"
      ],
      "metadata": {
        "id": "Jw2wmHXrRWPq"
      }
    },
    {
      "cell_type": "code",
      "source": [
        "#Acessar elementos\n",
        "array = [1,3,5,6,7,8]\n",
        "array[-1]\n",
        "#passamos o valor do campo que desejamos\n",
        "#numeros negativos pegam os valores e tras para frente\n",
        "\n",
        "array =[[1,2,4,5],[ 76, 3 , 34 ]]\n",
        "# ao utilizar uma lista com 2 dimensoes \n",
        "#usammos dois valores para acessar seus valores\n",
        "array[0][1]\n",
        "\n",
        "\n",
        "#slice\n",
        "array = [1,3,5,6,7,8]\n",
        "array[0:2]\n",
        "\n"
      ],
      "metadata": {
        "colab": {
          "base_uri": "https://localhost:8080/"
        },
        "id": "FinG98tkYYm9",
        "outputId": "4f1a47b7-3d5a-410f-ecc4-fde88cdb7900"
      },
      "execution_count": 97,
      "outputs": [
        {
          "output_type": "execute_result",
          "data": {
            "text/plain": [
              "[1, 3]"
            ]
          },
          "metadata": {},
          "execution_count": 97
        }
      ]
    },
    {
      "cell_type": "code",
      "source": [
        "#extração \n",
        "# 1°\n",
        "array[0]\n",
        "# 2 ao 3\n",
        "array[0:3]"
      ],
      "metadata": {
        "colab": {
          "base_uri": "https://localhost:8080/"
        },
        "id": "hiCLm0ICZ1l7",
        "outputId": "f411cc2e-0e85-40ca-ee07-22c6c2fa454f"
      },
      "execution_count": 42,
      "outputs": [
        {
          "output_type": "execute_result",
          "data": {
            "text/plain": [
              "[1, 3, 5]"
            ]
          },
          "metadata": {},
          "execution_count": 42
        }
      ]
    },
    {
      "cell_type": "code",
      "source": [
        "import numpy as np\n",
        "array = np.linspace(start=0, stop=200 , num=20)\n",
        "#linspace = cria uma seqüência de números uniformemente espaçados entre os limites dados, opcionalmente incluindo o valor final"
      ],
      "metadata": {
        "id": "bY_A5QyWunTN"
      },
      "execution_count": 89,
      "outputs": []
    },
    {
      "cell_type": "code",
      "source": [
        "#outras formas\n",
        "array = array.reshape(4,5)\n",
        "array"
      ],
      "metadata": {
        "colab": {
          "base_uri": "https://localhost:8080/"
        },
        "id": "JNuCOwl1uQ4c",
        "outputId": "634dc9e3-7d16-4f7b-d1c0-714eb8acfca7"
      },
      "execution_count": 95,
      "outputs": [
        {
          "output_type": "execute_result",
          "data": {
            "text/plain": [
              "array([[  0.        ,  10.52631579,  21.05263158,  31.57894737,\n",
              "         42.10526316],\n",
              "       [ 52.63157895,  63.15789474,  73.68421053,  84.21052632,\n",
              "         94.73684211],\n",
              "       [105.26315789, 115.78947368, 126.31578947, 136.84210526,\n",
              "        147.36842105],\n",
              "       [157.89473684, 168.42105263, 178.94736842, 189.47368421,\n",
              "        200.        ]])"
            ]
          },
          "metadata": {},
          "execution_count": 95
        }
      ]
    },
    {
      "cell_type": "code",
      "source": [
        "#slecing\n",
        "array[0, 0:3] # com matrizes "
      ],
      "metadata": {
        "colab": {
          "base_uri": "https://localhost:8080/"
        },
        "id": "sytg7r_IuezT",
        "outputId": "f00a8d30-1f9e-4abd-bf7a-7e9dbb07f8e5"
      },
      "execution_count": 96,
      "outputs": [
        {
          "output_type": "execute_result",
          "data": {
            "text/plain": [
              "array([ 0.        , 10.52631579, 21.05263158])"
            ]
          },
          "metadata": {},
          "execution_count": 96
        }
      ]
    },
    {
      "cell_type": "code",
      "source": [],
      "metadata": {
        "id": "O3Q8q6pwyFzq"
      },
      "execution_count": null,
      "outputs": []
    }
  ],
  "metadata": {
    "colab": {
      "provenance": [],
      "authorship_tag": "ABX9TyP9fdysV1B+gaX0cufYi+uW",
      "include_colab_link": true
    },
    "kernelspec": {
      "display_name": "Python 3",
      "name": "python3"
    },
    "language_info": {
      "name": "python"
    }
  },
  "nbformat": 4,
  "nbformat_minor": 0
}