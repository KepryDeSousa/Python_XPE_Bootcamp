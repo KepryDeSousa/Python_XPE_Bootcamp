{
  "cells": [
    {
      "cell_type": "markdown",
      "metadata": {
        "id": "view-in-github",
        "colab_type": "text"
      },
      "source": [
        "<a href=\"https://colab.research.google.com/github/KepryDeSousa/Python_XPE_Bootcamp/blob/main/Mundo_2_Python_Analise_de_Dados.ipynb\" target=\"_parent\"><img src=\"https://colab.research.google.com/assets/colab-badge.svg\" alt=\"Open In Colab\"/></a>"
      ]
    },
    {
      "cell_type": "markdown",
      "metadata": {
        "id": "3OvvCXpxR9QZ"
      },
      "source": [
        "# Introdução a analise de dados\n",
        "*   Numpy\n",
        "*   Pandas\n",
        "*   Scikit-Learn\n"
      ]
    },
    {
      "cell_type": "markdown",
      "source": [
        "## Indexação de Arrays"
      ],
      "metadata": {
        "id": "Jw2wmHXrRWPq"
      }
    },
    {
      "cell_type": "code",
      "source": [
        "#Acessar elementos\n",
        "array = [1,3,5,6,7,8]\n",
        "array[-1]\n",
        "#passamos o valor do campo que desejamos\n",
        "#numeros negativos pegam os valores e tras para frente\n",
        "\n",
        "array =[[1,2,4,5],[ 76, 3 , 34 ]]\n",
        "# ao utilizar uma lista com 2 dimensoes \n",
        "#usammos dois valores para acessar seus valores\n",
        "array[0][1]\n",
        "\n",
        "\n",
        "#slice\n",
        "array = [1,3,5,6,7,8]\n",
        "array[0:2]\n",
        "\n"
      ],
      "metadata": {
        "colab": {
          "base_uri": "https://localhost:8080/"
        },
        "id": "FinG98tkYYm9",
        "outputId": "76100812-fff5-4b0f-832b-a73e0851aab1"
      },
      "execution_count": 40,
      "outputs": [
        {
          "output_type": "execute_result",
          "data": {
            "text/plain": [
              "[1, 3]"
            ]
          },
          "metadata": {},
          "execution_count": 40
        }
      ]
    },
    {
      "cell_type": "code",
      "source": [],
      "metadata": {
        "id": "hiCLm0ICZ1l7"
      },
      "execution_count": null,
      "outputs": []
    }
  ],
  "metadata": {
    "colab": {
      "provenance": [],
      "authorship_tag": "ABX9TyN6HGfXaBL35rn/tGIat1+v",
      "include_colab_link": true
    },
    "kernelspec": {
      "display_name": "Python 3",
      "name": "python3"
    },
    "language_info": {
      "name": "python"
    }
  },
  "nbformat": 4,
  "nbformat_minor": 0
}